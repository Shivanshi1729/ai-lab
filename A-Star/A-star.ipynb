{
 "cells": [
  {
   "cell_type": "markdown",
   "id": "98855801",
   "metadata": {},
   "source": [
    "# A* Algorithm"
   ]
  },
  {
   "cell_type": "markdown",
   "id": "ee3b0125",
   "metadata": {},
   "source": [
    "Importing libraries"
   ]
  },
  {
   "cell_type": "code",
   "execution_count": 1,
   "id": "42610e23",
   "metadata": {},
   "outputs": [],
   "source": [
    "import argparse\n",
    "from random import randint\n",
    "import matplotlib as mp\n",
    "import matplotlib.pyplot as plt\n",
    "import numpy as np\n",
    "import math"
   ]
  },
  {
   "cell_type": "markdown",
   "id": "5abbdb69",
   "metadata": {},
   "source": [
    "## Node Class\n",
    "\n",
    "Every node will have\n",
    "- $g$ the cost from start node to reach current node\n",
    "- $h$ the estimated cost to reach the destinaton from current node\n",
    "- $f$ sum of both $g$ and $h$"
   ]
  },
  {
   "cell_type": "code",
   "execution_count": 2,
   "id": "a27cfcc0",
   "metadata": {},
   "outputs": [],
   "source": [
    "class Node:\n",
    "    def __init__(self, x, y):\n",
    "        self.x = x\n",
    "        self.y = y\n",
    "        self.f = 0\n",
    "        self.g = 0\n",
    "        self.h = 0\n",
    "        self.neighbors = []\n",
    "        self.previous = None\n",
    "        self.obstacle = False\n",
    "\n",
    "    def add_neighbors(self, grid, columns, rows):\n",
    "        neighbor_x = self.x\n",
    "        neighbor_y = self.y\n",
    "        if neighbor_x < columns - 1:\n",
    "            self.neighbors.append(grid[neighbor_x+1][neighbor_y])\n",
    "        if neighbor_x > 0:\n",
    "            self.neighbors.append(grid[neighbor_x-1][neighbor_y])\n",
    "        if neighbor_y < rows - 1:\n",
    "            self.neighbors.append(grid[neighbor_x][neighbor_y + 1])\n",
    "        if neighbor_y > 0:\n",
    "            self.neighbors.append(grid[neighbor_x][neighbor_y-1])\n",
    "        # diagonals\n",
    "        if neighbor_x > 0 and neighbor_y > 0:\n",
    "                self.neighbors.append(grid[neighbor_x-1][neighbor_y-1])\n",
    "        if neighbor_x < columns -1 and neighbor_y > 0:\n",
    "                self.neighbors.append(grid[neighbor_x+1][neighbor_y-1])\n",
    "        if neighbor_x > 0 and neighbor_y <rows -1:\n",
    "                self.neighbors.append(grid[neighbor_x-1][neighbor_y+1])\n",
    "        if neighbor_x < columns -1 and neighbor_y < rows -1:\n",
    "                self.neighbors.append(grid[neighbor_x+1][neighbor_y+1])"
   ]
  },
  {
   "cell_type": "markdown",
   "id": "6bd64778",
   "metadata": {},
   "source": [
    "## Declaring Variables"
   ]
  },
  {
   "cell_type": "code",
   "execution_count": 14,
   "id": "b194369d",
   "metadata": {},
   "outputs": [],
   "source": [
    "cols = 10\n",
    "rows = 10\n",
    "start = [0, 0]\n",
    "end = [9, 8]\n",
    "obstacle_ratio = 80\n",
    "obstacle_list = [[1,1],[4,4],[3,4],[9,0],[8,8]]"
   ]
  },
  {
   "cell_type": "code",
   "execution_count": 15,
   "id": "6e376f92",
   "metadata": {},
   "outputs": [],
   "source": [
    "def clean_open_set(open_set, current_node):\n",
    "    for i in range(len(open_set)):\n",
    "        if open_set[i] == current_node:\n",
    "            open_set.pop(i)\n",
    "            break\n",
    "    return open_set"
   ]
  },
  {
   "cell_type": "code",
   "execution_count": 16,
   "id": "992dc65e",
   "metadata": {},
   "outputs": [],
   "source": [
    "# h-score measurment\n",
    "# return number\n",
    "def h_score(current_node, end):\n",
    "    #distance = abs(current_node.x - end.x) + abs(current_node.y - end.y) # manhattan distance\n",
    "    distance = math.sqrt((current_node.x - end.x)**2 + (current_node.y - end.y)**2) # eucledian distance\n",
    "    return distance"
   ]
  },
  {
   "cell_type": "code",
   "execution_count": 17,
   "id": "e13d9e1c",
   "metadata": {},
   "outputs": [],
   "source": [
    "# create a gird\n",
    "# return [][]\n",
    "def create_grid(cols, rows):\n",
    "    grid = []\n",
    "    for _ in range(cols):\n",
    "        grid.append([])\n",
    "        for _ in range(rows):\n",
    "            grid[-1].append(0)\n",
    "    return grid"
   ]
  },
  {
   "cell_type": "code",
   "execution_count": 18,
   "id": "190753e6",
   "metadata": {},
   "outputs": [],
   "source": [
    "# fill grid with Node objects\n",
    "def fill_grids(grid, cols, rows, obstacle_ratio=False, obstacle_list=False):\n",
    "    for i in range(cols):\n",
    "        for j in range(rows):\n",
    "            grid[i][j] = Node(i, j)\n",
    "        if obstacle_ratio == False:\n",
    "            pass\n",
    "        else:\n",
    "            n = randint(0, 100)\n",
    "            if n < obstacle_ratio:\n",
    "                grid[i][j].obstacle = True\n",
    "    if obstacle_list == False:\n",
    "        pass\n",
    "    else:\n",
    "        for i in range(len(obstacle_list)):\n",
    "            grid[obstacle_list[i][0]][obstacle_list[i][1]].obstacle = True\n",
    "    return grid"
   ]
  },
  {
   "cell_type": "code",
   "execution_count": 19,
   "id": "86e3235c",
   "metadata": {},
   "outputs": [],
   "source": [
    "# fill the neighbours for each gird item\n",
    "def get_neighbors(grid, cols, rows):\n",
    "    for i in range(cols):\n",
    "        for j in range(rows):\n",
    "            grid[i][j].add_neighbors(grid, cols, rows)\n",
    "    return grid"
   ]
  },
  {
   "cell_type": "code",
   "execution_count": 25,
   "id": "b30e042c",
   "metadata": {},
   "outputs": [],
   "source": [
    "def start_path(open_set, closed_set, current_node, end):\n",
    "        \n",
    "    # get the point with minimum f score\n",
    "    best_way = 0\n",
    "    for i in range(len(open_set)):\n",
    "        if open_set[i].f < open_set[best_way].f:\n",
    "            best_way = i\n",
    "    \n",
    "    current_node = open_set[best_way]\n",
    "    \n",
    "    final_path = []\n",
    "    \n",
    "    # if current node is destination node\n",
    "    if current_node == end:\n",
    "        temp = current_node\n",
    "        while temp.previous:\n",
    "            final_path.append(temp.previous)\n",
    "            temp = temp.previous\n",
    "        print(\"Done !!\")\n",
    "    \n",
    "    open_set = clean_open_set(open_set, current_node)\n",
    "    closed_set.append(current_node)\n",
    "    neighbors = current_node.neighbors\n",
    "    for neighbor in neighbors:\n",
    "        if (neighbor in closed_set) or (neighbor.obstacle == True):\n",
    "            continue\n",
    "        else:\n",
    "            temp_g = current_node.g + 1\n",
    "            \n",
    "            inOpenSet = False\n",
    "            for k in range(len(open_set)):\n",
    "                if neighbor.x == open_set[k].x and neighbor.y == open_set[k].y:\n",
    "                    if temp_g < open_set[k].g:\n",
    "                        open_set[k].g = temp_g\n",
    "                        open_set[k].h = h_score(open_set[k], end)\n",
    "                        open_set[k].f = open_set[k].g + open_set[k].h\n",
    "                        open_set[k].previous = current_node\n",
    "                        inOpenSet = True\n",
    "            if not inOpenSet:\n",
    "                neighbor.g = temp_g\n",
    "                neighbor.h = h_score(neighbor, end)\n",
    "                neighbor.f = neighbor.g + neighbor.h\n",
    "                neighbor.previous = current_node\n",
    "                open_set.append(neighbor)\n",
    "    return open_set, closed_set, current_node, final_path"
   ]
  },
  {
   "cell_type": "code",
   "execution_count": 26,
   "id": "1658372d",
   "metadata": {},
   "outputs": [],
   "source": [
    "def printGrid(grid):\n",
    "    grid2 = []\n",
    "    for i in grid:\n",
    "        temp = []\n",
    "        for j in i:\n",
    "            if j.obstacle:\n",
    "                temp.append(100)\n",
    "            else:\n",
    "                temp.append(0)\n",
    "        grid2.append(temp)\n",
    "    plt.imshow(np.array(grid2))\n",
    "    plt.show()"
   ]
  },
  {
   "cell_type": "code",
   "execution_count": 27,
   "id": "0ad07d4b",
   "metadata": {},
   "outputs": [],
   "source": [
    "def printGrid2(grid, path):\n",
    "    grid2 = []\n",
    "    for i in grid:\n",
    "        temp = []\n",
    "        for j in i:\n",
    "            if j.obstacle:\n",
    "                temp.append(1000)\n",
    "            else:\n",
    "                temp.append(0)\n",
    "        grid2.append(temp)\n",
    "    val = 500\n",
    "    for i in path:\n",
    "        grid2[i.x][i.y] = val\n",
    "        val -= 5\n",
    "    plt.imshow(np.array(grid2), origin='lower', interpolation='nearest', aspect='equal')\n",
    "    plt.grid(True)"
   ]
  },
  {
   "cell_type": "code",
   "execution_count": 28,
   "id": "b809a499",
   "metadata": {},
   "outputs": [
    {
     "data": {
      "image/png": "[encoded data removed]",
      "text/plain": [
       "<Figure size 432x288 with 1 Axes>"
      ]
     },
     "metadata": {
      "needs_background": "light"
     },
     "output_type": "display_data"
    },
    {
     "name": "stdout",
     "output_type": "stream",
     "text": [
      "Done !!\n"
     ]
    }
   ],
   "source": [
    "grid = create_grid(cols, rows)\n",
    "grid = fill_grids(grid, cols, rows, False, obstacle_list)\n",
    "#grid = fill_grids(grid, cols, rows, obstacle_ratio)\n",
    "grid = get_neighbors(grid, cols, rows)\n",
    "\n",
    "printGrid(grid)\n",
    "\n",
    "open_set = []\n",
    "closed_set = []\n",
    "current_node = None\n",
    "final_path = []\n",
    "open_set.append(grid[start[0]][start[1]])\n",
    "endd = grid[end[0]][end[1]]\n",
    "\n",
    "while len(open_set) > 0:\n",
    "    open_set, closed_set, current_node, final_path = start_path(open_set, closed_set, current_node, endd)\n",
    "    if len(final_path) > 0:\n",
    "        break"
   ]
  },
  {
   "cell_type": "code",
   "execution_count": 29,
   "id": "9fa876e5",
   "metadata": {},
   "outputs": [
    {
     "name": "stdout",
     "output_type": "stream",
     "text": [
      "The way found!!!\n"
     ]
    },
    {
     "data": {
      "image/png": "[encoded data removed]",
      "text/plain": [
       "<Figure size 432x288 with 1 Axes>"
      ]
     },
     "metadata": {
      "needs_background": "light"
     },
     "output_type": "display_data"
    }
   ],
   "source": [
    "if len(final_path) > 0:\n",
    "    print(\"The way found!!!\")\n",
    "    printGrid2(grid, final_path)\n",
    "    #for i in range(len(final_path)):\n",
    "        #print(final_path[i].x, final_path[i].y)\n",
    "else:\n",
    "    print(\"There is no legal way...You can decrease obstacle ration (default 20)\")"
   ]
  },
  {
   "cell_type": "code",
   "execution_count": null,
   "id": "f0f2f5d8",
   "metadata": {},
   "outputs": [],
   "source": []
  },
  {
   "cell_type": "code",
   "execution_count": null,
   "id": "55a19193",
   "metadata": {},
   "outputs": [],
   "source": []
  },
  {
   "cell_type": "code",
   "execution_count": null,
   "id": "5ee98db3",
   "metadata": {},
   "outputs": [],
   "source": []
  },
  {
   "cell_type": "code",
   "execution_count": null,
   "id": "bec9e09d",
   "metadata": {},
   "outputs": [],
   "source": []
  }
 ],
 "metadata": {
  "kernelspec": {
   "display_name": "Python 3 (ipykernel)",
   "language": "python",
   "name": "python3"
  },
  "language_info": {
   "codemirror_mode": {
    "name": "ipython",
    "version": 3
   },
   "file_extension": ".py",
   "mimetype": "text/x-python",
   "name": "python",
   "nbconvert_exporter": "python",
   "pygments_lexer": "ipython3",
   "version": "3.8.10"
  }
 },
 "nbformat": 4,
 "nbformat_minor": 5
}
